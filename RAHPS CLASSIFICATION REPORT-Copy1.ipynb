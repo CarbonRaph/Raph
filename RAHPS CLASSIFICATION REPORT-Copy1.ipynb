{
 "cells": [
  {
   "cell_type": "markdown",
   "id": "00155cfd",
   "metadata": {},
   "source": [
    "# Importing the libraries"
   ]
  },
  {
   "cell_type": "code",
   "execution_count": 1,
   "id": "c5a58fa0",
   "metadata": {},
   "outputs": [],
   "source": [
    "import numpy as np\n",
    "import matplotlib.pyplot as plt\n",
    "import pandas as pd\n",
    "%matplotlib inline"
   ]
  },
  {
   "cell_type": "markdown",
   "id": "23ffb7e1",
   "metadata": {},
   "source": [
    "# Importing the dataset"
   ]
  },
  {
   "cell_type": "code",
   "execution_count": 2,
   "id": "516b5fa8",
   "metadata": {},
   "outputs": [],
   "source": [
    "rent_rf = pd.read_csv('data.csv')"
   ]
  },
  {
   "cell_type": "code",
   "execution_count": 3,
   "id": "75a515de",
   "metadata": {},
   "outputs": [
    {
     "data": {
      "text/html": [
       "<div>\n",
       "<style scoped>\n",
       "    .dataframe tbody tr th:only-of-type {\n",
       "        vertical-align: middle;\n",
       "    }\n",
       "\n",
       "    .dataframe tbody tr th {\n",
       "        vertical-align: top;\n",
       "    }\n",
       "\n",
       "    .dataframe thead th {\n",
       "        text-align: right;\n",
       "    }\n",
       "</style>\n",
       "<table border=\"1\" class=\"dataframe\">\n",
       "  <thead>\n",
       "    <tr style=\"text-align: right;\">\n",
       "      <th></th>\n",
       "      <th>neighbourhood_group</th>\n",
       "      <th>longitude</th>\n",
       "      <th>latitude</th>\n",
       "      <th>room_type</th>\n",
       "      <th>price</th>\n",
       "      <th>minimum_nights</th>\n",
       "      <th>Neighbourhood</th>\n",
       "      <th>RoomType</th>\n",
       "    </tr>\n",
       "  </thead>\n",
       "  <tbody>\n",
       "    <tr>\n",
       "      <th>0</th>\n",
       "      <td>Brooklyn</td>\n",
       "      <td>-73.97237</td>\n",
       "      <td>40.64749</td>\n",
       "      <td>Private room</td>\n",
       "      <td>149</td>\n",
       "      <td>1</td>\n",
       "      <td>1</td>\n",
       "      <td>1</td>\n",
       "    </tr>\n",
       "    <tr>\n",
       "      <th>1</th>\n",
       "      <td>Manhattan</td>\n",
       "      <td>-73.98377</td>\n",
       "      <td>40.75362</td>\n",
       "      <td>Entire home/apt</td>\n",
       "      <td>225</td>\n",
       "      <td>1</td>\n",
       "      <td>-1</td>\n",
       "      <td>-1</td>\n",
       "    </tr>\n",
       "    <tr>\n",
       "      <th>2</th>\n",
       "      <td>Manhattan</td>\n",
       "      <td>-73.94190</td>\n",
       "      <td>40.80902</td>\n",
       "      <td>Private room</td>\n",
       "      <td>150</td>\n",
       "      <td>3</td>\n",
       "      <td>-1</td>\n",
       "      <td>1</td>\n",
       "    </tr>\n",
       "    <tr>\n",
       "      <th>3</th>\n",
       "      <td>Brooklyn</td>\n",
       "      <td>-73.95976</td>\n",
       "      <td>40.68514</td>\n",
       "      <td>Entire home/apt</td>\n",
       "      <td>89</td>\n",
       "      <td>1</td>\n",
       "      <td>1</td>\n",
       "      <td>-1</td>\n",
       "    </tr>\n",
       "    <tr>\n",
       "      <th>4</th>\n",
       "      <td>Manhattan</td>\n",
       "      <td>-73.94399</td>\n",
       "      <td>40.79851</td>\n",
       "      <td>Entire home/apt</td>\n",
       "      <td>80</td>\n",
       "      <td>10</td>\n",
       "      <td>-1</td>\n",
       "      <td>-1</td>\n",
       "    </tr>\n",
       "    <tr>\n",
       "      <th>...</th>\n",
       "      <td>...</td>\n",
       "      <td>...</td>\n",
       "      <td>...</td>\n",
       "      <td>...</td>\n",
       "      <td>...</td>\n",
       "      <td>...</td>\n",
       "      <td>...</td>\n",
       "      <td>...</td>\n",
       "    </tr>\n",
       "    <tr>\n",
       "      <th>48890</th>\n",
       "      <td>Brooklyn</td>\n",
       "      <td>-73.94995</td>\n",
       "      <td>40.67853</td>\n",
       "      <td>Private room</td>\n",
       "      <td>70</td>\n",
       "      <td>2</td>\n",
       "      <td>1</td>\n",
       "      <td>1</td>\n",
       "    </tr>\n",
       "    <tr>\n",
       "      <th>48891</th>\n",
       "      <td>Brooklyn</td>\n",
       "      <td>-73.93317</td>\n",
       "      <td>40.70184</td>\n",
       "      <td>Private room</td>\n",
       "      <td>40</td>\n",
       "      <td>4</td>\n",
       "      <td>1</td>\n",
       "      <td>1</td>\n",
       "    </tr>\n",
       "    <tr>\n",
       "      <th>48892</th>\n",
       "      <td>Manhattan</td>\n",
       "      <td>-73.94867</td>\n",
       "      <td>40.81475</td>\n",
       "      <td>Entire home/apt</td>\n",
       "      <td>115</td>\n",
       "      <td>10</td>\n",
       "      <td>-1</td>\n",
       "      <td>-1</td>\n",
       "    </tr>\n",
       "    <tr>\n",
       "      <th>48893</th>\n",
       "      <td>Manhattan</td>\n",
       "      <td>-73.99112</td>\n",
       "      <td>40.75751</td>\n",
       "      <td>Shared room</td>\n",
       "      <td>55</td>\n",
       "      <td>1</td>\n",
       "      <td>-1</td>\n",
       "      <td>0</td>\n",
       "    </tr>\n",
       "    <tr>\n",
       "      <th>48894</th>\n",
       "      <td>Manhattan</td>\n",
       "      <td>-73.98933</td>\n",
       "      <td>40.76404</td>\n",
       "      <td>Private room</td>\n",
       "      <td>90</td>\n",
       "      <td>7</td>\n",
       "      <td>-1</td>\n",
       "      <td>1</td>\n",
       "    </tr>\n",
       "  </tbody>\n",
       "</table>\n",
       "<p>48895 rows × 8 columns</p>\n",
       "</div>"
      ],
      "text/plain": [
       "      neighbourhood_group  longitude  latitude        room_type  price  \\\n",
       "0                Brooklyn  -73.97237  40.64749     Private room    149   \n",
       "1               Manhattan  -73.98377  40.75362  Entire home/apt    225   \n",
       "2               Manhattan  -73.94190  40.80902     Private room    150   \n",
       "3                Brooklyn  -73.95976  40.68514  Entire home/apt     89   \n",
       "4               Manhattan  -73.94399  40.79851  Entire home/apt     80   \n",
       "...                   ...        ...       ...              ...    ...   \n",
       "48890            Brooklyn  -73.94995  40.67853     Private room     70   \n",
       "48891            Brooklyn  -73.93317  40.70184     Private room     40   \n",
       "48892           Manhattan  -73.94867  40.81475  Entire home/apt    115   \n",
       "48893           Manhattan  -73.99112  40.75751      Shared room     55   \n",
       "48894           Manhattan  -73.98933  40.76404     Private room     90   \n",
       "\n",
       "       minimum_nights  Neighbourhood  RoomType  \n",
       "0                   1              1         1  \n",
       "1                   1             -1        -1  \n",
       "2                   3             -1         1  \n",
       "3                   1              1        -1  \n",
       "4                  10             -1        -1  \n",
       "...               ...            ...       ...  \n",
       "48890               2              1         1  \n",
       "48891               4              1         1  \n",
       "48892              10             -1        -1  \n",
       "48893               1             -1         0  \n",
       "48894               7             -1         1  \n",
       "\n",
       "[48895 rows x 8 columns]"
      ]
     },
     "execution_count": 3,
     "metadata": {},
     "output_type": "execute_result"
    }
   ],
   "source": [
    "rent_rf "
   ]
  },
  {
   "cell_type": "markdown",
   "id": "b1d9fc34",
   "metadata": {},
   "source": [
    "# Generating independent variable(X) and dependent variable(y)"
   ]
  },
  {
   "cell_type": "code",
   "execution_count": 9,
   "id": "bd6f2a2f",
   "metadata": {},
   "outputs": [
    {
     "data": {
      "text/html": [
       "<div>\n",
       "<style scoped>\n",
       "    .dataframe tbody tr th:only-of-type {\n",
       "        vertical-align: middle;\n",
       "    }\n",
       "\n",
       "    .dataframe tbody tr th {\n",
       "        vertical-align: top;\n",
       "    }\n",
       "\n",
       "    .dataframe thead th {\n",
       "        text-align: right;\n",
       "    }\n",
       "</style>\n",
       "<table border=\"1\" class=\"dataframe\">\n",
       "  <thead>\n",
       "    <tr style=\"text-align: right;\">\n",
       "      <th></th>\n",
       "      <th>longitude</th>\n",
       "      <th>latitude</th>\n",
       "      <th>price</th>\n",
       "      <th>minimum_nights</th>\n",
       "      <th>Neighbourhood</th>\n",
       "    </tr>\n",
       "  </thead>\n",
       "  <tbody>\n",
       "    <tr>\n",
       "      <th>0</th>\n",
       "      <td>-73.97237</td>\n",
       "      <td>40.64749</td>\n",
       "      <td>149</td>\n",
       "      <td>1</td>\n",
       "      <td>1</td>\n",
       "    </tr>\n",
       "    <tr>\n",
       "      <th>1</th>\n",
       "      <td>-73.98377</td>\n",
       "      <td>40.75362</td>\n",
       "      <td>225</td>\n",
       "      <td>1</td>\n",
       "      <td>-1</td>\n",
       "    </tr>\n",
       "    <tr>\n",
       "      <th>2</th>\n",
       "      <td>-73.94190</td>\n",
       "      <td>40.80902</td>\n",
       "      <td>150</td>\n",
       "      <td>3</td>\n",
       "      <td>-1</td>\n",
       "    </tr>\n",
       "    <tr>\n",
       "      <th>3</th>\n",
       "      <td>-73.95976</td>\n",
       "      <td>40.68514</td>\n",
       "      <td>89</td>\n",
       "      <td>1</td>\n",
       "      <td>1</td>\n",
       "    </tr>\n",
       "    <tr>\n",
       "      <th>4</th>\n",
       "      <td>-73.94399</td>\n",
       "      <td>40.79851</td>\n",
       "      <td>80</td>\n",
       "      <td>10</td>\n",
       "      <td>-1</td>\n",
       "    </tr>\n",
       "    <tr>\n",
       "      <th>...</th>\n",
       "      <td>...</td>\n",
       "      <td>...</td>\n",
       "      <td>...</td>\n",
       "      <td>...</td>\n",
       "      <td>...</td>\n",
       "    </tr>\n",
       "    <tr>\n",
       "      <th>48890</th>\n",
       "      <td>-73.94995</td>\n",
       "      <td>40.67853</td>\n",
       "      <td>70</td>\n",
       "      <td>2</td>\n",
       "      <td>1</td>\n",
       "    </tr>\n",
       "    <tr>\n",
       "      <th>48891</th>\n",
       "      <td>-73.93317</td>\n",
       "      <td>40.70184</td>\n",
       "      <td>40</td>\n",
       "      <td>4</td>\n",
       "      <td>1</td>\n",
       "    </tr>\n",
       "    <tr>\n",
       "      <th>48892</th>\n",
       "      <td>-73.94867</td>\n",
       "      <td>40.81475</td>\n",
       "      <td>115</td>\n",
       "      <td>10</td>\n",
       "      <td>-1</td>\n",
       "    </tr>\n",
       "    <tr>\n",
       "      <th>48893</th>\n",
       "      <td>-73.99112</td>\n",
       "      <td>40.75751</td>\n",
       "      <td>55</td>\n",
       "      <td>1</td>\n",
       "      <td>-1</td>\n",
       "    </tr>\n",
       "    <tr>\n",
       "      <th>48894</th>\n",
       "      <td>-73.98933</td>\n",
       "      <td>40.76404</td>\n",
       "      <td>90</td>\n",
       "      <td>7</td>\n",
       "      <td>-1</td>\n",
       "    </tr>\n",
       "  </tbody>\n",
       "</table>\n",
       "<p>48895 rows × 5 columns</p>\n",
       "</div>"
      ],
      "text/plain": [
       "       longitude  latitude  price  minimum_nights  Neighbourhood\n",
       "0      -73.97237  40.64749    149               1              1\n",
       "1      -73.98377  40.75362    225               1             -1\n",
       "2      -73.94190  40.80902    150               3             -1\n",
       "3      -73.95976  40.68514     89               1              1\n",
       "4      -73.94399  40.79851     80              10             -1\n",
       "...          ...       ...    ...             ...            ...\n",
       "48890  -73.94995  40.67853     70               2              1\n",
       "48891  -73.93317  40.70184     40               4              1\n",
       "48892  -73.94867  40.81475    115              10             -1\n",
       "48893  -73.99112  40.75751     55               1             -1\n",
       "48894  -73.98933  40.76404     90               7             -1\n",
       "\n",
       "[48895 rows x 5 columns]"
      ]
     },
     "execution_count": 9,
     "metadata": {},
     "output_type": "execute_result"
    }
   ],
   "source": [
    "X= rent_rf.drop(columns=['room_type','neighbourhood_group','RoomType'])\n",
    "X"
   ]
  },
  {
   "cell_type": "code",
   "execution_count": 11,
   "id": "df9b08b2",
   "metadata": {},
   "outputs": [
    {
     "data": {
      "text/plain": [
       "0        1\n",
       "1       -1\n",
       "2        1\n",
       "3       -1\n",
       "4       -1\n",
       "        ..\n",
       "48890    1\n",
       "48891    1\n",
       "48892   -1\n",
       "48893    0\n",
       "48894    1\n",
       "Name: RoomType, Length: 48895, dtype: int64"
      ]
     },
     "execution_count": 11,
     "metadata": {},
     "output_type": "execute_result"
    }
   ],
   "source": [
    "y= rent_rf['RoomType']\n",
    "y"
   ]
  },
  {
   "cell_type": "markdown",
   "id": "970f5de7",
   "metadata": {},
   "source": [
    "# Selecting DecisionTreeClassifier as our model and predicting posssible outcome of a single test run "
   ]
  },
  {
   "cell_type": "code",
   "execution_count": 21,
   "id": "e85e1430",
   "metadata": {
    "scrolled": true
   },
   "outputs": [
    {
     "name": "stderr",
     "output_type": "stream",
     "text": [
      "C:\\Program Files\\anaconda\\lib\\site-packages\\sklearn\\base.py:450: UserWarning: X does not have valid feature names, but DecisionTreeClassifier was fitted with feature names\n",
      "  warnings.warn(\n"
     ]
    },
    {
     "data": {
      "text/plain": [
       "array([1], dtype=int64)"
      ]
     },
     "execution_count": 21,
     "metadata": {},
     "output_type": "execute_result"
    }
   ],
   "source": [
    "from sklearn.tree import DecisionTreeClassifier\n",
    "model =DecisionTreeClassifier()\n",
    "model.fit(X,y)\n",
    "predictions=model.predict([[-73.95976,40.64749,149,1,1]])\n",
    "predictions"
   ]
  },
  {
   "cell_type": "markdown",
   "id": "2841c255",
   "metadata": {},
   "source": [
    "### From our test run we could see that for long -73.95976 , lat 40.64749 with a price of 149 and a mim nigth of 1 and in Brooklyn(1) our model predicts dat the room avialable is private(1)"
   ]
  },
  {
   "cell_type": "markdown",
   "id": "e0a95137",
   "metadata": {},
   "source": [
    "# Splitting the dataset into the Training set and Test set and examinig 90% of the data set"
   ]
  },
  {
   "cell_type": "code",
   "execution_count": 32,
   "id": "c0743f5f",
   "metadata": {},
   "outputs": [],
   "source": [
    "from sklearn.model_selection import train_test_split\n",
    "X_train, X_test, y_train, y_test = train_test_split(X, y, test_size = 0.9)"
   ]
  },
  {
   "cell_type": "markdown",
   "id": "584f12d8",
   "metadata": {},
   "source": [
    "# Training our model and testing the accuracy of the model on 90% of our dataset"
   ]
  },
  {
   "cell_type": "code",
   "execution_count": 33,
   "id": "495de465",
   "metadata": {},
   "outputs": [
    {
     "data": {
      "text/plain": [
       "0.7463300459028315"
      ]
     },
     "execution_count": 33,
     "metadata": {},
     "output_type": "execute_result"
    }
   ],
   "source": [
    "from sklearn.metrics import accuracy_score\n",
    "from sklearn.tree import DecisionTreeClassifier\n",
    "model =DecisionTreeClassifier()\n",
    "model.fit(X_train,y_train)\n",
    "y_pred=model.predict(X_test)\n",
    "\n",
    "score=accuracy_score(y_test,y_pred)\n",
    "score"
   ]
  },
  {
   "cell_type": "markdown",
   "id": "2f4bb188",
   "metadata": {},
   "source": [
    "# Making the Confusion Matrix"
   ]
  },
  {
   "cell_type": "code",
   "execution_count": 34,
   "id": "6e770443",
   "metadata": {},
   "outputs": [],
   "source": [
    "from sklearn.metrics import confusion_matrix\n",
    "cm = confusion_matrix(y_test, y_pred)"
   ]
  },
  {
   "cell_type": "markdown",
   "id": "d1cb5346",
   "metadata": {},
   "source": [
    "# Classification Report"
   ]
  },
  {
   "cell_type": "code",
   "execution_count": 38,
   "id": "cfa98f04",
   "metadata": {},
   "outputs": [
    {
     "name": "stdout",
     "output_type": "stream",
     "text": [
      "              precision    recall  f1-score   support\n",
      "\n",
      "          -1       0.79      0.78      0.79     22900\n",
      "           0       0.22      0.27      0.25      1050\n",
      "           1       0.73      0.73      0.73     20056\n",
      "\n",
      "    accuracy                           0.75     44006\n",
      "   macro avg       0.58      0.59      0.59     44006\n",
      "weighted avg       0.75      0.75      0.75     44006\n",
      "\n",
      "[[17922   146  4832]\n",
      " [  125   285   640]\n",
      " [ 4582   838 14636]]\n"
     ]
    }
   ],
   "source": [
    "from sklearn.metrics import classification_report ,confusion_matrix\n",
    "class_report =confusion_matrix(y_test, y_pred)\n",
    "print (classification_report(y_test, y_pred))\n",
    "print(class_report)"
   ]
  },
  {
   "cell_type": "markdown",
   "id": "467ece1d",
   "metadata": {},
   "source": [
    "# 1. Precision - shows the ability of the model to predict outcomes"
   ]
  },
  {
   "cell_type": "markdown",
   "id": "6da184aa",
   "metadata": {},
   "source": [
    "# 2. Recall - indicates the proportion of actual positive feedbacks of the model being used"
   ]
  },
  {
   "cell_type": "markdown",
   "id": "48017a16",
   "metadata": {},
   "source": [
    "# 3. F1-score - combines the pecision and recall of the model"
   ]
  },
  {
   "cell_type": "markdown",
   "id": "c7a02017",
   "metadata": {},
   "source": [
    "# 4. Support - the number of samples each metric was calculated"
   ]
  },
  {
   "cell_type": "markdown",
   "id": "cdde18d8",
   "metadata": {},
   "source": [
    "# 5. Accuracy - is the accuracy of the model "
   ]
  },
  {
   "cell_type": "markdown",
   "id": "ee8c71ed",
   "metadata": {},
   "source": [
    "# 6. Macro avg - is the avg of precision, recall and f1-score between the classes"
   ]
  },
  {
   "cell_type": "markdown",
   "id": "8de048fc",
   "metadata": {},
   "source": [
    "# 7. Wighted avg - is the average of precision , recall and f1-score between classes with regard to the number of samples"
   ]
  },
  {
   "cell_type": "code",
   "execution_count": null,
   "id": "c36d1e1d",
   "metadata": {},
   "outputs": [],
   "source": []
  }
 ],
 "metadata": {
  "kernelspec": {
   "display_name": "Python 3 (ipykernel)",
   "language": "python",
   "name": "python3"
  },
  "language_info": {
   "codemirror_mode": {
    "name": "ipython",
    "version": 3
   },
   "file_extension": ".py",
   "mimetype": "text/x-python",
   "name": "python",
   "nbconvert_exporter": "python",
   "pygments_lexer": "ipython3",
   "version": "3.9.13"
  }
 },
 "nbformat": 4,
 "nbformat_minor": 5
}
